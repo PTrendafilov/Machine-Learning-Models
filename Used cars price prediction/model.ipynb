{
 "cells": [
  {
   "cell_type": "code",
   "execution_count": 122,
   "metadata": {},
   "outputs": [],
   "source": [
    "import tensorflow as tf\n",
    "from tensorflow import keras\n",
    "from tensorflow.keras import layers\n",
    "from sklearn.model_selection import train_test_split\n",
    "from sklearn.preprocessing import StandardScaler\n",
    "import pandas as pd\n",
    "import matplotlib.pyplot as plt"
   ]
  },
  {
   "cell_type": "code",
   "execution_count": 123,
   "metadata": {},
   "outputs": [
    {
     "data": {
      "text/html": [
       "<div>\n",
       "<style scoped>\n",
       "    .dataframe tbody tr th:only-of-type {\n",
       "        vertical-align: middle;\n",
       "    }\n",
       "\n",
       "    .dataframe tbody tr th {\n",
       "        vertical-align: top;\n",
       "    }\n",
       "\n",
       "    .dataframe thead th {\n",
       "        text-align: right;\n",
       "    }\n",
       "</style>\n",
       "<table border=\"1\" class=\"dataframe\">\n",
       "  <thead>\n",
       "    <tr style=\"text-align: right;\">\n",
       "      <th></th>\n",
       "      <th>id</th>\n",
       "      <th>brand</th>\n",
       "      <th>model</th>\n",
       "      <th>model_year</th>\n",
       "      <th>milage</th>\n",
       "      <th>fuel_type</th>\n",
       "      <th>engine</th>\n",
       "      <th>transmission</th>\n",
       "      <th>ext_col</th>\n",
       "      <th>int_col</th>\n",
       "      <th>accident</th>\n",
       "      <th>clean_title</th>\n",
       "      <th>price</th>\n",
       "    </tr>\n",
       "  </thead>\n",
       "  <tbody>\n",
       "    <tr>\n",
       "      <th>0</th>\n",
       "      <td>0</td>\n",
       "      <td>MINI</td>\n",
       "      <td>Cooper S Base</td>\n",
       "      <td>2007</td>\n",
       "      <td>213000</td>\n",
       "      <td>Gasoline</td>\n",
       "      <td>172.0HP 1.6L 4 Cylinder Engine Gasoline Fuel</td>\n",
       "      <td>A/T</td>\n",
       "      <td>Yellow</td>\n",
       "      <td>Gray</td>\n",
       "      <td>None reported</td>\n",
       "      <td>Yes</td>\n",
       "      <td>4200</td>\n",
       "    </tr>\n",
       "    <tr>\n",
       "      <th>1</th>\n",
       "      <td>1</td>\n",
       "      <td>Lincoln</td>\n",
       "      <td>LS V8</td>\n",
       "      <td>2002</td>\n",
       "      <td>143250</td>\n",
       "      <td>Gasoline</td>\n",
       "      <td>252.0HP 3.9L 8 Cylinder Engine Gasoline Fuel</td>\n",
       "      <td>A/T</td>\n",
       "      <td>Silver</td>\n",
       "      <td>Beige</td>\n",
       "      <td>At least 1 accident or damage reported</td>\n",
       "      <td>Yes</td>\n",
       "      <td>4999</td>\n",
       "    </tr>\n",
       "    <tr>\n",
       "      <th>2</th>\n",
       "      <td>2</td>\n",
       "      <td>Chevrolet</td>\n",
       "      <td>Silverado 2500 LT</td>\n",
       "      <td>2002</td>\n",
       "      <td>136731</td>\n",
       "      <td>E85 Flex Fuel</td>\n",
       "      <td>320.0HP 5.3L 8 Cylinder Engine Flex Fuel Capab...</td>\n",
       "      <td>A/T</td>\n",
       "      <td>Blue</td>\n",
       "      <td>Gray</td>\n",
       "      <td>None reported</td>\n",
       "      <td>Yes</td>\n",
       "      <td>13900</td>\n",
       "    </tr>\n",
       "    <tr>\n",
       "      <th>3</th>\n",
       "      <td>3</td>\n",
       "      <td>Genesis</td>\n",
       "      <td>G90 5.0 Ultimate</td>\n",
       "      <td>2017</td>\n",
       "      <td>19500</td>\n",
       "      <td>Gasoline</td>\n",
       "      <td>420.0HP 5.0L 8 Cylinder Engine Gasoline Fuel</td>\n",
       "      <td>Transmission w/Dual Shift Mode</td>\n",
       "      <td>Black</td>\n",
       "      <td>Black</td>\n",
       "      <td>None reported</td>\n",
       "      <td>Yes</td>\n",
       "      <td>45000</td>\n",
       "    </tr>\n",
       "    <tr>\n",
       "      <th>4</th>\n",
       "      <td>4</td>\n",
       "      <td>Mercedes-Benz</td>\n",
       "      <td>Metris Base</td>\n",
       "      <td>2021</td>\n",
       "      <td>7388</td>\n",
       "      <td>Gasoline</td>\n",
       "      <td>208.0HP 2.0L 4 Cylinder Engine Gasoline Fuel</td>\n",
       "      <td>7-Speed A/T</td>\n",
       "      <td>Black</td>\n",
       "      <td>Beige</td>\n",
       "      <td>None reported</td>\n",
       "      <td>Yes</td>\n",
       "      <td>97500</td>\n",
       "    </tr>\n",
       "    <tr>\n",
       "      <th>5</th>\n",
       "      <td>5</td>\n",
       "      <td>Audi</td>\n",
       "      <td>A6 2.0T Sport</td>\n",
       "      <td>2018</td>\n",
       "      <td>40950</td>\n",
       "      <td>Gasoline</td>\n",
       "      <td>252.0HP 2.0L 4 Cylinder Engine Gasoline Fuel</td>\n",
       "      <td>A/T</td>\n",
       "      <td>White</td>\n",
       "      <td>–</td>\n",
       "      <td>None reported</td>\n",
       "      <td>Yes</td>\n",
       "      <td>29950</td>\n",
       "    </tr>\n",
       "    <tr>\n",
       "      <th>6</th>\n",
       "      <td>6</td>\n",
       "      <td>Audi</td>\n",
       "      <td>A8 L 3.0T</td>\n",
       "      <td>2016</td>\n",
       "      <td>62200</td>\n",
       "      <td>Gasoline</td>\n",
       "      <td>333.0HP 3.0L V6 Cylinder Engine Gasoline Fuel</td>\n",
       "      <td>8-Speed A/T</td>\n",
       "      <td>Black</td>\n",
       "      <td>Black</td>\n",
       "      <td>None reported</td>\n",
       "      <td>Yes</td>\n",
       "      <td>28500</td>\n",
       "    </tr>\n",
       "    <tr>\n",
       "      <th>7</th>\n",
       "      <td>7</td>\n",
       "      <td>Chevrolet</td>\n",
       "      <td>Silverado 1500 1LZ</td>\n",
       "      <td>2016</td>\n",
       "      <td>102604</td>\n",
       "      <td>E85 Flex Fuel</td>\n",
       "      <td>355.0HP 5.3L 8 Cylinder Engine Flex Fuel Capab...</td>\n",
       "      <td>A/T</td>\n",
       "      <td>White</td>\n",
       "      <td>Gray</td>\n",
       "      <td>None reported</td>\n",
       "      <td>Yes</td>\n",
       "      <td>12500</td>\n",
       "    </tr>\n",
       "    <tr>\n",
       "      <th>8</th>\n",
       "      <td>8</td>\n",
       "      <td>Ford</td>\n",
       "      <td>F-150 XLT</td>\n",
       "      <td>2020</td>\n",
       "      <td>38352</td>\n",
       "      <td>Gasoline</td>\n",
       "      <td>2.7L V6 24V PDI DOHC Twin Turbo</td>\n",
       "      <td>10-Speed Automatic</td>\n",
       "      <td>Snowflake White Pearl Metallic</td>\n",
       "      <td>Black</td>\n",
       "      <td>None reported</td>\n",
       "      <td>Yes</td>\n",
       "      <td>62890</td>\n",
       "    </tr>\n",
       "    <tr>\n",
       "      <th>9</th>\n",
       "      <td>9</td>\n",
       "      <td>BMW</td>\n",
       "      <td>M4 Base</td>\n",
       "      <td>2015</td>\n",
       "      <td>74850</td>\n",
       "      <td>Gasoline</td>\n",
       "      <td>425.0HP 3.0L Straight 6 Cylinder Engine Gasoli...</td>\n",
       "      <td>Transmission w/Dual Shift Mode</td>\n",
       "      <td>Black</td>\n",
       "      <td>Blue</td>\n",
       "      <td>None reported</td>\n",
       "      <td>Yes</td>\n",
       "      <td>4000</td>\n",
       "    </tr>\n",
       "  </tbody>\n",
       "</table>\n",
       "</div>"
      ],
      "text/plain": [
       "   id          brand               model  model_year  milage      fuel_type  \\\n",
       "0   0           MINI       Cooper S Base        2007  213000       Gasoline   \n",
       "1   1        Lincoln               LS V8        2002  143250       Gasoline   \n",
       "2   2      Chevrolet   Silverado 2500 LT        2002  136731  E85 Flex Fuel   \n",
       "3   3        Genesis    G90 5.0 Ultimate        2017   19500       Gasoline   \n",
       "4   4  Mercedes-Benz         Metris Base        2021    7388       Gasoline   \n",
       "5   5           Audi       A6 2.0T Sport        2018   40950       Gasoline   \n",
       "6   6           Audi           A8 L 3.0T        2016   62200       Gasoline   \n",
       "7   7      Chevrolet  Silverado 1500 1LZ        2016  102604  E85 Flex Fuel   \n",
       "8   8           Ford           F-150 XLT        2020   38352       Gasoline   \n",
       "9   9            BMW             M4 Base        2015   74850       Gasoline   \n",
       "\n",
       "                                              engine  \\\n",
       "0       172.0HP 1.6L 4 Cylinder Engine Gasoline Fuel   \n",
       "1       252.0HP 3.9L 8 Cylinder Engine Gasoline Fuel   \n",
       "2  320.0HP 5.3L 8 Cylinder Engine Flex Fuel Capab...   \n",
       "3       420.0HP 5.0L 8 Cylinder Engine Gasoline Fuel   \n",
       "4       208.0HP 2.0L 4 Cylinder Engine Gasoline Fuel   \n",
       "5       252.0HP 2.0L 4 Cylinder Engine Gasoline Fuel   \n",
       "6      333.0HP 3.0L V6 Cylinder Engine Gasoline Fuel   \n",
       "7  355.0HP 5.3L 8 Cylinder Engine Flex Fuel Capab...   \n",
       "8                    2.7L V6 24V PDI DOHC Twin Turbo   \n",
       "9  425.0HP 3.0L Straight 6 Cylinder Engine Gasoli...   \n",
       "\n",
       "                     transmission                         ext_col int_col  \\\n",
       "0                             A/T                          Yellow    Gray   \n",
       "1                             A/T                          Silver   Beige   \n",
       "2                             A/T                            Blue    Gray   \n",
       "3  Transmission w/Dual Shift Mode                           Black   Black   \n",
       "4                     7-Speed A/T                           Black   Beige   \n",
       "5                             A/T                           White       –   \n",
       "6                     8-Speed A/T                           Black   Black   \n",
       "7                             A/T                           White    Gray   \n",
       "8              10-Speed Automatic  Snowflake White Pearl Metallic   Black   \n",
       "9  Transmission w/Dual Shift Mode                           Black    Blue   \n",
       "\n",
       "                                 accident clean_title  price  \n",
       "0                           None reported         Yes   4200  \n",
       "1  At least 1 accident or damage reported         Yes   4999  \n",
       "2                           None reported         Yes  13900  \n",
       "3                           None reported         Yes  45000  \n",
       "4                           None reported         Yes  97500  \n",
       "5                           None reported         Yes  29950  \n",
       "6                           None reported         Yes  28500  \n",
       "7                           None reported         Yes  12500  \n",
       "8                           None reported         Yes  62890  \n",
       "9                           None reported         Yes   4000  "
      ]
     },
     "execution_count": 123,
     "metadata": {},
     "output_type": "execute_result"
    }
   ],
   "source": [
    "df = pd.read_csv(\"train.csv\")\n",
    "df.head(10)"
   ]
  },
  {
   "cell_type": "code",
   "execution_count": 124,
   "metadata": {},
   "outputs": [
    {
     "name": "stdout",
     "output_type": "stream",
     "text": [
      "Number of rows: 188533, Number of columns: 13\n"
     ]
    }
   ],
   "source": [
    "rows, columns = df.shape\n",
    "print(f\"Number of rows: {rows}, Number of columns: {columns}\")"
   ]
  },
  {
   "cell_type": "code",
   "execution_count": 125,
   "metadata": {},
   "outputs": [
    {
     "data": {
      "image/png": "[encoded data removed]",
      "text/plain": [
       "<Figure size 640x480 with 1 Axes>"
      ]
     },
     "metadata": {},
     "output_type": "display_data"
    }
   ],
   "source": [
    "plt.scatter(df.model_year, df.price, color='blue')\n",
    "plt.xlabel(\"model_year\")\n",
    "plt.ylabel(\"price\")\n",
    "plt.ticklabel_format(style='plain', axis='y')  # Ensure no scientific notation\n",
    "plt.show()"
   ]
  },
  {
   "cell_type": "code",
   "execution_count": 126,
   "metadata": {},
   "outputs": [
    {
     "name": "stdout",
     "output_type": "stream",
     "text": [
      "Average price of cars with reported accidents: 26981.16\n",
      "Average price of cars without reported accidents: 49024.80\n"
     ]
    }
   ],
   "source": [
    "cars_with_accidents = df[df['accident'] != 'None reported']\n",
    "cars_without_accidents = df[df['accident'] == 'None reported']\n",
    "\n",
    "average_price_with_accidents = cars_with_accidents['price'].mean()\n",
    "average_price_without_accidents = cars_without_accidents['price'].mean()\n",
    "\n",
    "\n",
    "print(f\"Average price of cars with reported accidents: {average_price_with_accidents:.2f}\")\n",
    "print(f\"Average price of cars without reported accidents: {average_price_without_accidents:.2f}\")"
   ]
  },
  {
   "cell_type": "code",
   "execution_count": 127,
   "metadata": {},
   "outputs": [
    {
     "name": "stdout",
     "output_type": "stream",
     "text": [
      "Average price by fuel type:\n",
      "fuel_type\n",
      "Diesel            48769.587358\n",
      "E85 Flex Fuel     26729.755457\n",
      "Gasoline          43360.013782\n",
      "Hybrid            55473.451698\n",
      "Plug-In Hybrid    44150.967370\n",
      "not supported     20692.733333\n",
      "–                 36414.285531\n",
      "Name: price, dtype: float64\n"
     ]
    }
   ],
   "source": [
    "average_price_by_fuel_type = df.groupby('fuel_type')['price'].mean()\n",
    "\n",
    "\n",
    "print(\"Average price by fuel type:\")\n",
    "print(average_price_by_fuel_type)"
   ]
  },
  {
   "cell_type": "markdown",
   "metadata": {},
   "source": [
    "### Preprocess string data "
   ]
  },
  {
   "cell_type": "code",
   "execution_count": 128,
   "metadata": {},
   "outputs": [
    {
     "data": {
      "text/html": [
       "<div>\n",
       "<style scoped>\n",
       "    .dataframe tbody tr th:only-of-type {\n",
       "        vertical-align: middle;\n",
       "    }\n",
       "\n",
       "    .dataframe tbody tr th {\n",
       "        vertical-align: top;\n",
       "    }\n",
       "\n",
       "    .dataframe thead th {\n",
       "        text-align: right;\n",
       "    }\n",
       "</style>\n",
       "<table border=\"1\" class=\"dataframe\">\n",
       "  <thead>\n",
       "    <tr style=\"text-align: right;\">\n",
       "      <th></th>\n",
       "      <th>id</th>\n",
       "      <th>brand</th>\n",
       "      <th>model</th>\n",
       "      <th>model_year</th>\n",
       "      <th>milage</th>\n",
       "      <th>fuel_type</th>\n",
       "      <th>engine</th>\n",
       "      <th>transmission</th>\n",
       "      <th>ext_col</th>\n",
       "      <th>int_col</th>\n",
       "      <th>accident</th>\n",
       "      <th>clean_title</th>\n",
       "      <th>price</th>\n",
       "    </tr>\n",
       "  </thead>\n",
       "  <tbody>\n",
       "    <tr>\n",
       "      <th>0</th>\n",
       "      <td>0</td>\n",
       "      <td>31.0</td>\n",
       "      <td>495.0</td>\n",
       "      <td>2007</td>\n",
       "      <td>213000</td>\n",
       "      <td>2.0</td>\n",
       "      <td>116.0</td>\n",
       "      <td>38.0</td>\n",
       "      <td>312.0</td>\n",
       "      <td>71.0</td>\n",
       "      <td>1.0</td>\n",
       "      <td>0.0</td>\n",
       "      <td>4200</td>\n",
       "    </tr>\n",
       "    <tr>\n",
       "      <th>1</th>\n",
       "      <td>1</td>\n",
       "      <td>28.0</td>\n",
       "      <td>930.0</td>\n",
       "      <td>2002</td>\n",
       "      <td>143250</td>\n",
       "      <td>2.0</td>\n",
       "      <td>366.0</td>\n",
       "      <td>38.0</td>\n",
       "      <td>263.0</td>\n",
       "      <td>10.0</td>\n",
       "      <td>0.0</td>\n",
       "      <td>0.0</td>\n",
       "      <td>4999</td>\n",
       "    </tr>\n",
       "    <tr>\n",
       "      <th>2</th>\n",
       "      <td>2</td>\n",
       "      <td>9.0</td>\n",
       "      <td>1575.0</td>\n",
       "      <td>2002</td>\n",
       "      <td>136731</td>\n",
       "      <td>1.0</td>\n",
       "      <td>640.0</td>\n",
       "      <td>38.0</td>\n",
       "      <td>38.0</td>\n",
       "      <td>71.0</td>\n",
       "      <td>1.0</td>\n",
       "      <td>0.0</td>\n",
       "      <td>13900</td>\n",
       "    </tr>\n",
       "    <tr>\n",
       "      <th>3</th>\n",
       "      <td>3</td>\n",
       "      <td>16.0</td>\n",
       "      <td>758.0</td>\n",
       "      <td>2017</td>\n",
       "      <td>19500</td>\n",
       "      <td>2.0</td>\n",
       "      <td>863.0</td>\n",
       "      <td>49.0</td>\n",
       "      <td>29.0</td>\n",
       "      <td>14.0</td>\n",
       "      <td>1.0</td>\n",
       "      <td>0.0</td>\n",
       "      <td>45000</td>\n",
       "    </tr>\n",
       "    <tr>\n",
       "      <th>4</th>\n",
       "      <td>4</td>\n",
       "      <td>36.0</td>\n",
       "      <td>1077.0</td>\n",
       "      <td>2021</td>\n",
       "      <td>7388</td>\n",
       "      <td>2.0</td>\n",
       "      <td>259.0</td>\n",
       "      <td>23.0</td>\n",
       "      <td>29.0</td>\n",
       "      <td>10.0</td>\n",
       "      <td>1.0</td>\n",
       "      <td>0.0</td>\n",
       "      <td>97500</td>\n",
       "    </tr>\n",
       "  </tbody>\n",
       "</table>\n",
       "</div>"
      ],
      "text/plain": [
       "   id  brand   model  model_year  milage  fuel_type  engine  transmission  \\\n",
       "0   0   31.0   495.0        2007  213000        2.0   116.0          38.0   \n",
       "1   1   28.0   930.0        2002  143250        2.0   366.0          38.0   \n",
       "2   2    9.0  1575.0        2002  136731        1.0   640.0          38.0   \n",
       "3   3   16.0   758.0        2017   19500        2.0   863.0          49.0   \n",
       "4   4   36.0  1077.0        2021    7388        2.0   259.0          23.0   \n",
       "\n",
       "   ext_col  int_col  accident  clean_title  price  \n",
       "0    312.0     71.0       1.0          0.0   4200  \n",
       "1    263.0     10.0       0.0          0.0   4999  \n",
       "2     38.0     71.0       1.0          0.0  13900  \n",
       "3     29.0     14.0       1.0          0.0  45000  \n",
       "4     29.0     10.0       1.0          0.0  97500  "
      ]
     },
     "execution_count": 128,
     "metadata": {},
     "output_type": "execute_result"
    }
   ],
   "source": [
    "from sklearn.preprocessing import OrdinalEncoder\n",
    "\n",
    "\n",
    "ordinal_encoder = OrdinalEncoder()\n",
    "\n",
    "columns_to_encode = ['brand', 'model', 'fuel_type', 'engine', 'transmission', 'ext_col', 'int_col', 'accident', 'clean_title']\n",
    "\n",
    "df[columns_to_encode] = ordinal_encoder.fit_transform(df[columns_to_encode])\n",
    "\n",
    "df.head()\n"
   ]
  },
  {
   "cell_type": "markdown",
   "metadata": {},
   "source": [
    "### Creating train and test data to evaluate the model"
   ]
  },
  {
   "cell_type": "code",
   "execution_count": 151,
   "metadata": {},
   "outputs": [
    {
     "data": {
      "text/html": [
       "<div>\n",
       "<style scoped>\n",
       "    .dataframe tbody tr th:only-of-type {\n",
       "        vertical-align: middle;\n",
       "    }\n",
       "\n",
       "    .dataframe tbody tr th {\n",
       "        vertical-align: top;\n",
       "    }\n",
       "\n",
       "    .dataframe thead th {\n",
       "        text-align: right;\n",
       "    }\n",
       "</style>\n",
       "<table border=\"1\" class=\"dataframe\">\n",
       "  <thead>\n",
       "    <tr style=\"text-align: right;\">\n",
       "      <th></th>\n",
       "      <th>brand</th>\n",
       "      <th>model</th>\n",
       "      <th>model_year</th>\n",
       "      <th>milage</th>\n",
       "      <th>fuel_type</th>\n",
       "      <th>engine</th>\n",
       "      <th>transmission</th>\n",
       "      <th>ext_col</th>\n",
       "      <th>int_col</th>\n",
       "      <th>accident</th>\n",
       "    </tr>\n",
       "  </thead>\n",
       "  <tbody>\n",
       "    <tr>\n",
       "      <th>0</th>\n",
       "      <td>31.0</td>\n",
       "      <td>495.0</td>\n",
       "      <td>2007</td>\n",
       "      <td>213000</td>\n",
       "      <td>2.0</td>\n",
       "      <td>116.0</td>\n",
       "      <td>38.0</td>\n",
       "      <td>312.0</td>\n",
       "      <td>71.0</td>\n",
       "      <td>1.0</td>\n",
       "    </tr>\n",
       "    <tr>\n",
       "      <th>1</th>\n",
       "      <td>28.0</td>\n",
       "      <td>930.0</td>\n",
       "      <td>2002</td>\n",
       "      <td>143250</td>\n",
       "      <td>2.0</td>\n",
       "      <td>366.0</td>\n",
       "      <td>38.0</td>\n",
       "      <td>263.0</td>\n",
       "      <td>10.0</td>\n",
       "      <td>0.0</td>\n",
       "    </tr>\n",
       "    <tr>\n",
       "      <th>2</th>\n",
       "      <td>9.0</td>\n",
       "      <td>1575.0</td>\n",
       "      <td>2002</td>\n",
       "      <td>136731</td>\n",
       "      <td>1.0</td>\n",
       "      <td>640.0</td>\n",
       "      <td>38.0</td>\n",
       "      <td>38.0</td>\n",
       "      <td>71.0</td>\n",
       "      <td>1.0</td>\n",
       "    </tr>\n",
       "    <tr>\n",
       "      <th>3</th>\n",
       "      <td>16.0</td>\n",
       "      <td>758.0</td>\n",
       "      <td>2017</td>\n",
       "      <td>19500</td>\n",
       "      <td>2.0</td>\n",
       "      <td>863.0</td>\n",
       "      <td>49.0</td>\n",
       "      <td>29.0</td>\n",
       "      <td>14.0</td>\n",
       "      <td>1.0</td>\n",
       "    </tr>\n",
       "    <tr>\n",
       "      <th>4</th>\n",
       "      <td>36.0</td>\n",
       "      <td>1077.0</td>\n",
       "      <td>2021</td>\n",
       "      <td>7388</td>\n",
       "      <td>2.0</td>\n",
       "      <td>259.0</td>\n",
       "      <td>23.0</td>\n",
       "      <td>29.0</td>\n",
       "      <td>10.0</td>\n",
       "      <td>1.0</td>\n",
       "    </tr>\n",
       "  </tbody>\n",
       "</table>\n",
       "</div>"
      ],
      "text/plain": [
       "   brand   model  model_year  milage  fuel_type  engine  transmission  \\\n",
       "0   31.0   495.0        2007  213000        2.0   116.0          38.0   \n",
       "1   28.0   930.0        2002  143250        2.0   366.0          38.0   \n",
       "2    9.0  1575.0        2002  136731        1.0   640.0          38.0   \n",
       "3   16.0   758.0        2017   19500        2.0   863.0          49.0   \n",
       "4   36.0  1077.0        2021    7388        2.0   259.0          23.0   \n",
       "\n",
       "   ext_col  int_col  accident  \n",
       "0    312.0     71.0       1.0  \n",
       "1    263.0     10.0       0.0  \n",
       "2     38.0     71.0       1.0  \n",
       "3     29.0     14.0       1.0  \n",
       "4     29.0     10.0       1.0  "
      ]
     },
     "execution_count": 151,
     "metadata": {},
     "output_type": "execute_result"
    }
   ],
   "source": [
    "X = df.drop(['clean_title' , 'price', 'id'], axis = 1)\n",
    "X.head()"
   ]
  },
  {
   "cell_type": "code",
   "execution_count": 152,
   "metadata": {},
   "outputs": [
    {
     "data": {
      "text/plain": [
       "0     4200\n",
       "1     4999\n",
       "2    13900\n",
       "3    45000\n",
       "4    97500\n",
       "Name: price, dtype: int64"
      ]
     },
     "execution_count": 152,
     "metadata": {},
     "output_type": "execute_result"
    }
   ],
   "source": [
    "y = df['price']\n",
    "y.head()"
   ]
  },
  {
   "cell_type": "code",
   "execution_count": 153,
   "metadata": {},
   "outputs": [],
   "source": [
    "X_train, X_temp, y_train, y_temp = train_test_split(X, y, test_size=0.2, random_state=42)\n",
    "X_val, X_test, y_val, y_test = train_test_split(X_temp, y_temp, test_size=0.5, random_state=42)"
   ]
  },
  {
   "cell_type": "markdown",
   "metadata": {},
   "source": [
    "### Scale features"
   ]
  },
  {
   "cell_type": "code",
   "execution_count": 154,
   "metadata": {},
   "outputs": [],
   "source": [
    "scaler = StandardScaler()\n",
    "X_train = scaler.fit_transform(X_train)\n",
    "X_val = scaler.transform(X_val)\n",
    "X_test = scaler.transform(X_test)"
   ]
  },
  {
   "cell_type": "markdown",
   "metadata": {},
   "source": [
    "### Define the model"
   ]
  },
  {
   "cell_type": "code",
   "execution_count": 155,
   "metadata": {},
   "outputs": [],
   "source": [
    "model = keras.Sequential([\n",
    "    layers.Dense(1, activation='relu', input_shape=(X_train.shape[1],)),\n",
    "    layers.Dense(1)  # Linear activation\n",
    "])"
   ]
  },
  {
   "cell_type": "markdown",
   "metadata": {},
   "source": [
    "### Compile the model"
   ]
  },
  {
   "cell_type": "code",
   "execution_count": 156,
   "metadata": {},
   "outputs": [],
   "source": [
    "model.compile(optimizer=keras.optimizers.Adam(learning_rate=0.001, clipvalue=1.0),\n",
    "              loss='mse',\n",
    "              metrics=['mae'])\n"
   ]
  },
  {
   "cell_type": "markdown",
   "metadata": {},
   "source": [
    "### Train the model"
   ]
  },
  {
   "cell_type": "code",
   "execution_count": 157,
   "metadata": {},
   "outputs": [
    {
     "name": "stdout",
     "output_type": "stream",
     "text": [
      "Epoch 1/10\n",
      "4714/4714 [==============================] - 4s 690us/step - loss: nan - mae: nan - val_loss: nan - val_mae: nan\n",
      "Epoch 2/10\n",
      "4714/4714 [==============================] - 3s 672us/step - loss: nan - mae: nan - val_loss: nan - val_mae: nan\n",
      "Epoch 3/10\n",
      "4714/4714 [==============================] - 4s 859us/step - loss: nan - mae: nan - val_loss: nan - val_mae: nan\n",
      "Epoch 4/10\n",
      "4714/4714 [==============================] - 3s 667us/step - loss: nan - mae: nan - val_loss: nan - val_mae: nan\n",
      "Epoch 5/10\n",
      "4714/4714 [==============================] - 3s 685us/step - loss: nan - mae: nan - val_loss: nan - val_mae: nan\n",
      "Epoch 6/10\n",
      "4714/4714 [==============================] - 3s 668us/step - loss: nan - mae: nan - val_loss: nan - val_mae: nan\n",
      "Epoch 7/10\n",
      "4714/4714 [==============================] - 3s 662us/step - loss: nan - mae: nan - val_loss: nan - val_mae: nan\n",
      "Epoch 8/10\n",
      "4714/4714 [==============================] - 3s 663us/step - loss: nan - mae: nan - val_loss: nan - val_mae: nan\n",
      "Epoch 9/10\n",
      "4714/4714 [==============================] - 3s 681us/step - loss: nan - mae: nan - val_loss: nan - val_mae: nan\n",
      "Epoch 10/10\n",
      "4714/4714 [==============================] - 3s 671us/step - loss: nan - mae: nan - val_loss: nan - val_mae: nan\n"
     ]
    }
   ],
   "source": [
    "history = model.fit(X_train, y_train, epochs=10, validation_data=(X_val, y_val))"
   ]
  },
  {
   "cell_type": "code",
   "execution_count": 158,
   "metadata": {},
   "outputs": [
    {
     "data": {
      "text/plain": [
       "184031    24000\n",
       "173831     8250\n",
       "183819    30000\n",
       "85525     45999\n",
       "41872     42000\n",
       "Name: price, dtype: int64"
      ]
     },
     "execution_count": 158,
     "metadata": {},
     "output_type": "execute_result"
    }
   ],
   "source": [
    "y_train.head()"
   ]
  },
  {
   "cell_type": "code",
   "execution_count": 159,
   "metadata": {},
   "outputs": [
    {
     "data": {
      "text/plain": [
       "45777     20999\n",
       "110518     6000\n",
       "118092    39998\n",
       "99048     41899\n",
       "157466    38900\n",
       "Name: price, dtype: int64"
      ]
     },
     "execution_count": 159,
     "metadata": {},
     "output_type": "execute_result"
    }
   ],
   "source": [
    "y_val.head()"
   ]
  },
  {
   "cell_type": "code",
   "execution_count": 160,
   "metadata": {},
   "outputs": [
    {
     "name": "stdout",
     "output_type": "stream",
     "text": [
      "id                  0\n",
      "brand               0\n",
      "model               0\n",
      "model_year          0\n",
      "milage              0\n",
      "fuel_type        5083\n",
      "engine              0\n",
      "transmission        0\n",
      "ext_col             0\n",
      "int_col             0\n",
      "accident         2452\n",
      "clean_title     21419\n",
      "price               0\n",
      "dtype: int64\n"
     ]
    }
   ],
   "source": [
    "print(df.isnull().sum())  # Check for missing values in the dataset\n"
   ]
  },
  {
   "cell_type": "code",
   "execution_count": 161,
   "metadata": {},
   "outputs": [
    {
     "ename": "ValueError",
     "evalue": "in user code:\n\n    File \"c:\\Users\\ptren\\AppData\\Local\\Programs\\Python\\Python311\\Lib\\site-packages\\keras\\engine\\training.py\", line 2169, in predict_function  *\n        return step_function(self, iterator)\n    File \"c:\\Users\\ptren\\AppData\\Local\\Programs\\Python\\Python311\\Lib\\site-packages\\keras\\engine\\training.py\", line 2155, in step_function  **\n        outputs = model.distribute_strategy.run(run_step, args=(data,))\n    File \"c:\\Users\\ptren\\AppData\\Local\\Programs\\Python\\Python311\\Lib\\site-packages\\keras\\engine\\training.py\", line 2143, in run_step  **\n        outputs = model.predict_step(data)\n    File \"c:\\Users\\ptren\\AppData\\Local\\Programs\\Python\\Python311\\Lib\\site-packages\\keras\\engine\\training.py\", line 2111, in predict_step\n        return self(x, training=False)\n    File \"c:\\Users\\ptren\\AppData\\Local\\Programs\\Python\\Python311\\Lib\\site-packages\\keras\\utils\\traceback_utils.py\", line 70, in error_handler\n        raise e.with_traceback(filtered_tb) from None\n    File \"c:\\Users\\ptren\\AppData\\Local\\Programs\\Python\\Python311\\Lib\\site-packages\\keras\\engine\\input_spec.py\", line 298, in assert_input_compatibility\n        raise ValueError(\n\n    ValueError: Input 0 of layer \"sequential_8\" is incompatible with the layer: expected shape=(None, 10), found shape=(None, 12)\n",
     "output_type": "error",
     "traceback": [
      "\u001b[1;31m---------------------------------------------------------------------------\u001b[0m",
      "\u001b[1;31mValueError\u001b[0m                                Traceback (most recent call last)",
      "Cell \u001b[1;32mIn[161], line 9\u001b[0m\n\u001b[0;32m      5\u001b[0m test_df\u001b[38;5;241m.\u001b[39mhead()\n\u001b[0;32m      8\u001b[0m X_test \u001b[38;5;241m=\u001b[39m test_df\n\u001b[1;32m----> 9\u001b[0m predictions \u001b[38;5;241m=\u001b[39m \u001b[43mmodel\u001b[49m\u001b[38;5;241;43m.\u001b[39;49m\u001b[43mpredict\u001b[49m\u001b[43m(\u001b[49m\u001b[43mX_test\u001b[49m\u001b[43m)\u001b[49m\n\u001b[0;32m     10\u001b[0m predictions \u001b[38;5;241m=\u001b[39m predictions\u001b[38;5;241m.\u001b[39mflatten()\n\u001b[0;32m     11\u001b[0m output \u001b[38;5;241m=\u001b[39m pd\u001b[38;5;241m.\u001b[39mDataFrame({\u001b[38;5;124m'\u001b[39m\u001b[38;5;124mid\u001b[39m\u001b[38;5;124m'\u001b[39m: test_df[\u001b[38;5;124m'\u001b[39m\u001b[38;5;124mid\u001b[39m\u001b[38;5;124m'\u001b[39m], \u001b[38;5;124m'\u001b[39m\u001b[38;5;124mprice\u001b[39m\u001b[38;5;124m'\u001b[39m: predictions})\n",
      "File \u001b[1;32mc:\\Users\\ptren\\AppData\\Local\\Programs\\Python\\Python311\\Lib\\site-packages\\keras\\utils\\traceback_utils.py:70\u001b[0m, in \u001b[0;36mfilter_traceback.<locals>.error_handler\u001b[1;34m(*args, **kwargs)\u001b[0m\n\u001b[0;32m     67\u001b[0m     filtered_tb \u001b[38;5;241m=\u001b[39m _process_traceback_frames(e\u001b[38;5;241m.\u001b[39m__traceback__)\n\u001b[0;32m     68\u001b[0m     \u001b[38;5;66;03m# To get the full stack trace, call:\u001b[39;00m\n\u001b[0;32m     69\u001b[0m     \u001b[38;5;66;03m# `tf.debugging.disable_traceback_filtering()`\u001b[39;00m\n\u001b[1;32m---> 70\u001b[0m     \u001b[38;5;28;01mraise\u001b[39;00m e\u001b[38;5;241m.\u001b[39mwith_traceback(filtered_tb) \u001b[38;5;28;01mfrom\u001b[39;00m \u001b[38;5;28;01mNone\u001b[39;00m\n\u001b[0;32m     71\u001b[0m \u001b[38;5;28;01mfinally\u001b[39;00m:\n\u001b[0;32m     72\u001b[0m     \u001b[38;5;28;01mdel\u001b[39;00m filtered_tb\n",
      "File \u001b[1;32m~\\AppData\\Local\\Temp\\__autograph_generated_file1ctp2uv4.py:15\u001b[0m, in \u001b[0;36mouter_factory.<locals>.inner_factory.<locals>.tf__predict_function\u001b[1;34m(iterator)\u001b[0m\n\u001b[0;32m     13\u001b[0m \u001b[38;5;28;01mtry\u001b[39;00m:\n\u001b[0;32m     14\u001b[0m     do_return \u001b[38;5;241m=\u001b[39m \u001b[38;5;28;01mTrue\u001b[39;00m\n\u001b[1;32m---> 15\u001b[0m     retval_ \u001b[38;5;241m=\u001b[39m ag__\u001b[38;5;241m.\u001b[39mconverted_call(ag__\u001b[38;5;241m.\u001b[39mld(step_function), (ag__\u001b[38;5;241m.\u001b[39mld(\u001b[38;5;28mself\u001b[39m), ag__\u001b[38;5;241m.\u001b[39mld(iterator)), \u001b[38;5;28;01mNone\u001b[39;00m, fscope)\n\u001b[0;32m     16\u001b[0m \u001b[38;5;28;01mexcept\u001b[39;00m:\n\u001b[0;32m     17\u001b[0m     do_return \u001b[38;5;241m=\u001b[39m \u001b[38;5;28;01mFalse\u001b[39;00m\n",
      "\u001b[1;31mValueError\u001b[0m: in user code:\n\n    File \"c:\\Users\\ptren\\AppData\\Local\\Programs\\Python\\Python311\\Lib\\site-packages\\keras\\engine\\training.py\", line 2169, in predict_function  *\n        return step_function(self, iterator)\n    File \"c:\\Users\\ptren\\AppData\\Local\\Programs\\Python\\Python311\\Lib\\site-packages\\keras\\engine\\training.py\", line 2155, in step_function  **\n        outputs = model.distribute_strategy.run(run_step, args=(data,))\n    File \"c:\\Users\\ptren\\AppData\\Local\\Programs\\Python\\Python311\\Lib\\site-packages\\keras\\engine\\training.py\", line 2143, in run_step  **\n        outputs = model.predict_step(data)\n    File \"c:\\Users\\ptren\\AppData\\Local\\Programs\\Python\\Python311\\Lib\\site-packages\\keras\\engine\\training.py\", line 2111, in predict_step\n        return self(x, training=False)\n    File \"c:\\Users\\ptren\\AppData\\Local\\Programs\\Python\\Python311\\Lib\\site-packages\\keras\\utils\\traceback_utils.py\", line 70, in error_handler\n        raise e.with_traceback(filtered_tb) from None\n    File \"c:\\Users\\ptren\\AppData\\Local\\Programs\\Python\\Python311\\Lib\\site-packages\\keras\\engine\\input_spec.py\", line 298, in assert_input_compatibility\n        raise ValueError(\n\n    ValueError: Input 0 of layer \"sequential_8\" is incompatible with the layer: expected shape=(None, 10), found shape=(None, 12)\n"
     ]
    }
   ],
   "source": [
    "test_df = pd.read_csv(\"test.csv\")\n",
    "ordinal_encoder = OrdinalEncoder()\n",
    "columns_to_encode = ['brand', 'model', 'fuel_type', 'engine', 'transmission', 'ext_col', 'int_col', 'accident', 'clean_title']\n",
    "test_df[columns_to_encode] = ordinal_encoder.fit_transform(test_df[columns_to_encode])\n",
    "test_df.head()\n",
    "\n",
    "\n",
    "X_test = test_df\n",
    "predictions = model.predict(X_test)\n",
    "predictions = predictions.flatten()\n",
    "output = pd.DataFrame({'id': test_df['id'], 'price': predictions})\n",
    "output.to_csv('predictions.csv', index=False)"
   ]
  },
  {
   "cell_type": "code",
   "execution_count": 162,
   "metadata": {},
   "outputs": [
    {
     "data": {
      "image/png": "[encoded data removed]",
      "text/plain": [
       "<Figure size 1500x1000 with 12 Axes>"
      ]
     },
     "metadata": {},
     "output_type": "display_data"
    }
   ],
   "source": [
    "X.hist(bins=30, figsize=(15, 10))\n",
    "plt.show()"
   ]
  },
  {
   "cell_type": "code",
   "execution_count": 164,
   "metadata": {},
   "outputs": [
    {
     "name": "stdout",
     "output_type": "stream",
     "text": [
      "                 brand     model  model_year    milage  fuel_type    engine  \\\n",
      "brand         1.000000 -0.040049   -0.014605 -0.007286   0.044207 -0.065512   \n",
      "model        -0.040049  1.000000    0.001784  0.041706   0.009344 -0.042079   \n",
      "model_year   -0.014605  0.001784    1.000000 -0.669936   0.010481  0.285300   \n",
      "milage       -0.007286  0.041706   -0.669936  1.000000  -0.106037 -0.331196   \n",
      "fuel_type     0.044207  0.009344    0.010481 -0.106037   1.000000  0.020790   \n",
      "engine       -0.065512 -0.042079    0.285300 -0.331196   0.020790  1.000000   \n",
      "transmission  0.036984 -0.027031    0.043596 -0.041158   0.097141 -0.017717   \n",
      "ext_col       0.006038  0.007560   -0.032189  0.027763  -0.010935 -0.037814   \n",
      "int_col      -0.004765  0.076990    0.024833 -0.030846   0.003968  0.006319   \n",
      "accident      0.005722 -0.018062    0.256762 -0.321676   0.037391  0.163719   \n",
      "\n",
      "              transmission   ext_col   int_col  accident  \n",
      "brand             0.036984  0.006038 -0.004765  0.005722  \n",
      "model            -0.027031  0.007560  0.076990 -0.018062  \n",
      "model_year        0.043596 -0.032189  0.024833  0.256762  \n",
      "milage           -0.041158  0.027763 -0.030846 -0.321676  \n",
      "fuel_type         0.097141 -0.010935  0.003968  0.037391  \n",
      "engine           -0.017717 -0.037814  0.006319  0.163719  \n",
      "transmission      1.000000  0.005435 -0.002534 -0.011820  \n",
      "ext_col           0.005435  1.000000  0.067904 -0.019989  \n",
      "int_col          -0.002534  0.067904  1.000000  0.000108  \n",
      "accident         -0.011820 -0.019989  0.000108  1.000000  \n"
     ]
    }
   ],
   "source": [
    "print(X.corr())"
   ]
  },
  {
   "cell_type": "code",
   "execution_count": null,
   "metadata": {},
   "outputs": [],
   "source": []
  }
 ],
 "metadata": {
  "kernelspec": {
   "display_name": "Python 3",
   "language": "python",
   "name": "python3"
  },
  "language_info": {
   "codemirror_mode": {
    "name": "ipython",
    "version": 3
   },
   "file_extension": ".py",
   "mimetype": "text/x-python",
   "name": "python",
   "nbconvert_exporter": "python",
   "pygments_lexer": "ipython3",
   "version": "3.11.0"
  }
 },
 "nbformat": 4,
 "nbformat_minor": 2
}
